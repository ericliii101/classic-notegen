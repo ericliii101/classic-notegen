{
 "cells": [
  {
   "cell_type": "code",
   "execution_count": 1,
   "id": "22e708a6-7c28-4d9a-813e-50a0f8fc50a4",
   "metadata": {},
   "outputs": [],
   "source": [
    "import os\n",
    "#os.environ['CUBLAS_WORKSPACE_CONFIG'] = ':4096:8\n",
    "curr_dir = os.getcwd()\n",
    "base_dir = os.path.dirname(curr_dir)\n",
    "# Base directory: /project-noteGen\n",
    "# Current directory: /core  \n",
    "\n",
    "import torch\n",
    "import torch.nn as nn\n",
    "from torchsummary import summary\n",
    "import numpy as np\n",
    "import pandas as pd\n",
    "import matplotlib.pyplot as plt\n",
    "import time\n",
    "import sys\n",
    "import warnings\n",
    "\n",
    "import visualize\n",
    "import instruments"
   ]
  },
  {
   "cell_type": "code",
   "execution_count": 2,
   "id": "e3c78040-feea-4929-8c3d-bff7db3d5c68",
   "metadata": {},
   "outputs": [],
   "source": [
    "device = torch.device(\"cuda\" if torch.cuda.is_available() else \"cpu\")"
   ]
  },
  {
   "cell_type": "code",
   "execution_count": null,
   "id": "7da3b451-075c-4a87-9e17-b2f03666e5cd",
   "metadata": {},
   "outputs": [],
   "source": [
    "discretization = {\n",
    "    \"codebook_size\": 2600,\n",
    "    \"codebook_dim\": 8,\n",
    "    \"num_mappings\": 256,\n",
    "    \"reset_clock\": 128,\n",
    "}\n",
    "\n",
    "#model = VQVAE(**discretization).to(device)\n",
    "#checkpoint = torch.load(f\"{base_dir}/models/vqitoae_large_2600\")\n",
    "#model.load_state_dict(checkpoint['model_state_dict']\n",
    "\n",
    "#_ = model.eval()"
   ]
  },
  {
   "cell_type": "code",
   "execution_count": null,
   "id": "e8a4d191-9443-4afe-a817-75d98115acfb",
   "metadata": {},
   "outputs": [],
   "source": [
    "# Interpolate between two notes, generating the novel notes that span the latent space in between\n",
    "def two_way_interpolate(model, note1, note2, steps):\n",
    "    \n",
    "    visualize.vis_notes_as_sampled(note1, note2)\n",
    "    \n",
    "    "
   ]
  }
 ],
 "metadata": {
  "kernelspec": {
   "display_name": "Python 3 (ipykernel)",
   "language": "python",
   "name": "python3"
  },
  "language_info": {
   "codemirror_mode": {
    "name": "ipython",
    "version": 3
   },
   "file_extension": ".py",
   "mimetype": "text/x-python",
   "name": "python",
   "nbconvert_exporter": "python",
   "pygments_lexer": "ipython3",
   "version": "3.9.16"
  }
 },
 "nbformat": 4,
 "nbformat_minor": 5
}
